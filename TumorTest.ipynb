{
  "nbformat": 4,
  "nbformat_minor": 0,
  "metadata": {
    "colab": {
      "name": "TumorTest.ipynb",
      "provenance": []
    },
    "kernelspec": {
      "name": "python3",
      "display_name": "Python 3"
    }
  },
  "cells": [
    {
      "cell_type": "code",
      "metadata": {
        "colab": {
          "base_uri": "https://localhost:8080/"
        },
        "id": "CaCQQyTzCRLM",
        "outputId": "e6b90365-d159-4e7d-c4ca-1c77188df817"
      },
      "source": [
        "from google.colab import drive\r\n",
        "drive.mount('/content/drive/')"
      ],
      "execution_count": 1,
      "outputs": [
        {
          "output_type": "stream",
          "text": [
            "Drive already mounted at /content/drive/; to attempt to forcibly remount, call drive.mount(\"/content/drive/\", force_remount=True).\n"
          ],
          "name": "stdout"
        }
      ]
    },
    {
      "cell_type": "code",
      "metadata": {
        "id": "KdpMdeoyDRBt"
      },
      "source": [
        "import cv2\r\n",
        "import h5py\r\n",
        "import tensorflow as tf"
      ],
      "execution_count": 2,
      "outputs": []
    },
    {
      "cell_type": "code",
      "metadata": {
        "id": "Jho7GzG8DUot"
      },
      "source": [
        "CATEGORIES = [\"normal\",\"tumor\"]"
      ],
      "execution_count": 3,
      "outputs": []
    },
    {
      "cell_type": "code",
      "metadata": {
        "colab": {
          "base_uri": "https://localhost:8080/"
        },
        "id": "vMUmtvOwO5Ts",
        "outputId": "5550a60f-37d9-4557-f009-959b84b4dfa3"
      },
      "source": [
        "def prepare(filepath):\r\n",
        "\tIMG_SIZE = 70\r\n",
        "\timg_array = cv2.imread(filepath)\r\n",
        "\tnew_array = cv2.resize(img_array,(IMG_SIZE,IMG_SIZE))\r\n",
        "\treturn new_array.reshape(-1,IMG_SIZE,IMG_SIZE,3)\r\n",
        "model = tf.keras.models.load_model(\"/content/drive/MyDrive/BreastTumorTest.h5\")\r\n",
        "prediction = model.predict([prepare('/content/sample_data/8917_idx5_x401_y601_class1.png')])\r\n",
        "print(CATEGORIES[int(prediction[0][0])])"
      ],
      "execution_count": 4,
      "outputs": [
        {
          "output_type": "stream",
          "text": [
            "tumor\n"
          ],
          "name": "stdout"
        }
      ]
    },
    {
      "cell_type": "code",
      "metadata": {
        "colab": {
          "base_uri": "https://localhost:8080/"
        },
        "id": "wSd5RRNhHyOd",
        "outputId": "cb40fe68-08c1-43ca-d632-727e5335894d"
      },
      "source": [
        "prediction = model.predict([prepare('/content/sample_data/9077_idx5_x401_y1451_class1.png')])\r\n",
        "print(CATEGORIES[int(prediction[0][0])])"
      ],
      "execution_count": 5,
      "outputs": [
        {
          "output_type": "stream",
          "text": [
            "tumor\n"
          ],
          "name": "stdout"
        }
      ]
    },
    {
      "cell_type": "code",
      "metadata": {
        "colab": {
          "base_uri": "https://localhost:8080/"
        },
        "id": "eJT-0-bXLZDV",
        "outputId": "824d8bd7-8d28-4ee8-e549-2f9f249a4de3"
      },
      "source": [
        "prediction = model.predict([prepare('/content/sample_data/9077_idx5_x301_y1651_class0.png')])\r\n",
        "print(CATEGORIES[int(prediction[0][0])])"
      ],
      "execution_count": 6,
      "outputs": [
        {
          "output_type": "stream",
          "text": [
            "normal\n"
          ],
          "name": "stdout"
        }
      ]
    },
    {
      "cell_type": "code",
      "metadata": {
        "colab": {
          "base_uri": "https://localhost:8080/"
        },
        "id": "fbJ9T6grLiC_",
        "outputId": "d160209a-f675-4321-d921-6d3f7bec1944"
      },
      "source": [
        "prediction = model.predict([prepare('/content/sample_data/8863_idx5_x1001_y801_class1.png')])\r\n",
        "print(CATEGORIES[int(prediction[0][0])])"
      ],
      "execution_count": 7,
      "outputs": [
        {
          "output_type": "stream",
          "text": [
            "tumor\n"
          ],
          "name": "stdout"
        }
      ]
    },
    {
      "cell_type": "code",
      "metadata": {
        "colab": {
          "base_uri": "https://localhost:8080/"
        },
        "id": "qwgx8hgaMJKe",
        "outputId": "4f23d6d5-8800-47b3-ceae-3c582ab05cdf"
      },
      "source": [
        "prediction = model.predict([prepare('/content/sample_data/8863_idx5_x151_y1301_class0.png')])\r\n",
        "print(CATEGORIES[int(prediction[0][0])])"
      ],
      "execution_count": 8,
      "outputs": [
        {
          "output_type": "stream",
          "text": [
            "normal\n"
          ],
          "name": "stdout"
        }
      ]
    },
    {
      "cell_type": "code",
      "metadata": {
        "colab": {
          "base_uri": "https://localhost:8080/"
        },
        "id": "rW0IgYKVQ3m7",
        "outputId": "2a95e3c9-4884-4e52-8ba7-0425f8206552"
      },
      "source": [
        "prediction = model.predict([prepare('/content/sample_data/9037_idx5_x101_y601_class0.png')])\r\n",
        "print(CATEGORIES[int(prediction[0][0])])"
      ],
      "execution_count": 9,
      "outputs": [
        {
          "output_type": "stream",
          "text": [
            "normal\n"
          ],
          "name": "stdout"
        }
      ]
    },
    {
      "cell_type": "code",
      "metadata": {
        "colab": {
          "base_uri": "https://localhost:8080/"
        },
        "id": "mNgfHXM2RKwy",
        "outputId": "653ad651-2f8e-4975-8008-67a47db6f84d"
      },
      "source": [
        "prediction = model.predict([prepare('/content/sample_data/9037_idx5_x1201_y401_class1.png')])\r\n",
        "print(CATEGORIES[int(prediction[0][0])])"
      ],
      "execution_count": 10,
      "outputs": [
        {
          "output_type": "stream",
          "text": [
            "tumor\n"
          ],
          "name": "stdout"
        }
      ]
    },
    {
      "cell_type": "code",
      "metadata": {
        "colab": {
          "base_uri": "https://localhost:8080/"
        },
        "id": "CDqh8EzcRSBz",
        "outputId": "ae20dd29-bd18-4142-ae2b-9f13f56e52c8"
      },
      "source": [
        "prediction = model.predict([prepare('/content/sample_data/16570_idx5_x1451_y1001_class1.png')])\r\n",
        "print(CATEGORIES[int(prediction[0][0])])"
      ],
      "execution_count": 11,
      "outputs": [
        {
          "output_type": "stream",
          "text": [
            "tumor\n"
          ],
          "name": "stdout"
        }
      ]
    },
    {
      "cell_type": "code",
      "metadata": {
        "colab": {
          "base_uri": "https://localhost:8080/"
        },
        "id": "a0hg6kXURhpR",
        "outputId": "f01de861-2145-47a3-d701-68ac86caddf3"
      },
      "source": [
        "prediction = model.predict([prepare('/content/sample_data/8913_idx5_x51_y301_class0.png')])\r\n",
        "print(CATEGORIES[int(prediction[0][0])])"
      ],
      "execution_count": 12,
      "outputs": [
        {
          "output_type": "stream",
          "text": [
            "normal\n"
          ],
          "name": "stdout"
        }
      ]
    },
    {
      "cell_type": "code",
      "metadata": {
        "colab": {
          "base_uri": "https://localhost:8080/"
        },
        "id": "3JPyUZRjSIHd",
        "outputId": "f7583f0f-5993-41a2-d957-928aaad8416f"
      },
      "source": [
        "prediction = model.predict([prepare('/content/sample_data/8913_idx5_x351_y1301_class1.png')])\r\n",
        "print(CATEGORIES[int(prediction[0][0])])"
      ],
      "execution_count": 13,
      "outputs": [
        {
          "output_type": "stream",
          "text": [
            "tumor\n"
          ],
          "name": "stdout"
        }
      ]
    }
  ]
}