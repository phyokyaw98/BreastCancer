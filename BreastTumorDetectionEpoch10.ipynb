{
  "nbformat": 4,
  "nbformat_minor": 0,
  "metadata": {
    "colab": {
      "name": "BreastTumorDetection.ipynb",
      "provenance": []
    },
    "kernelspec": {
      "name": "python3",
      "display_name": "Python 3"
    },
    "accelerator": "GPU"
  },
  "cells": [
    {
      "cell_type": "code",
      "metadata": {
        "colab": {
          "base_uri": "https://localhost:8080/"
        },
        "id": "v8VPwDRy85Gw",
        "outputId": "0ae07fa7-cfd0-4553-820f-b7d8b8e827a1"
      },
      "source": [
        "from google.colab import drive\r\n",
        "drive.mount('/content/drive/')"
      ],
      "execution_count": 1,
      "outputs": [
        {
          "output_type": "stream",
          "text": [
            "Mounted at /content/drive/\n"
          ],
          "name": "stdout"
        }
      ]
    },
    {
      "cell_type": "code",
      "metadata": {
        "id": "UMHE-RpZ96IS"
      },
      "source": [
        "def display_training_curves(training, validation, title, subplot):\r\n",
        "  if subplot%10==1: # set up the subplots on the first call\r\n",
        "    plt.subplots(figsize=(10,10), facecolor='#F0F0F0')\r\n",
        "    plt.tight_layout()\r\n",
        "  ax = plt.subplot(subplot)\r\n",
        "  ax.set_facecolor('#F8F8F8')\r\n",
        "  ax.plot(training)\r\n",
        "  ax.plot(validation)\r\n",
        "  ax.set_title('model '+ title)\r\n",
        "  ax.set_ylabel(title)\r\n",
        "  ax.set_xlabel('epoch')\r\n",
        "  ax.legend(['train', 'valid.'])"
      ],
      "execution_count": 14,
      "outputs": []
    },
    {
      "cell_type": "code",
      "metadata": {
        "id": "3570nK4y-Axs"
      },
      "source": [
        "import matplotlib.pyplot as plt\r\n",
        "import matplotlib.image  as mpimg\r\n",
        "import os\r\n"
      ],
      "execution_count": 8,
      "outputs": []
    },
    {
      "cell_type": "code",
      "metadata": {
        "id": "rnz-CHBv-FBb"
      },
      "source": [
        "train_dir = \"/content/drive/MyDrive/Dataset/train\"\r\n",
        "val_dir   = \"/content/drive/MyDrive/Dataset/val\" \r\n",
        "\r\n",
        "test_dir  = \"/content/drive/MyDrive/Dataset/test\""
      ],
      "execution_count": 6,
      "outputs": []
    },
    {
      "cell_type": "code",
      "metadata": {
        "id": "mk69OJ0H_cZT"
      },
      "source": [
        "import numpy as np\r\n",
        "\r\n",
        "from keras.applications.vgg16 import VGG16\r\n",
        "from keras.applications.vgg16 import preprocess_input, decode_predictions\r\n",
        "\r\n",
        "from tensorflow.python.keras.preprocessing import image"
      ],
      "execution_count": 16,
      "outputs": []
    },
    {
      "cell_type": "code",
      "metadata": {
        "colab": {
          "base_uri": "https://localhost:8080/"
        },
        "id": "aMG1a-f6_ujC",
        "outputId": "50eca42a-1a2b-4385-f578-e5273208410c"
      },
      "source": [
        "pre_model = VGG16(weights='imagenet')"
      ],
      "execution_count": 17,
      "outputs": [
        {
          "output_type": "stream",
          "text": [
            "Downloading data from https://storage.googleapis.com/tensorflow/keras-applications/vgg16/vgg16_weights_tf_dim_ordering_tf_kernels.h5\n",
            "553467904/553467096 [==============================] - 10s 0us/step\n"
          ],
          "name": "stdout"
        }
      ]
    },
    {
      "cell_type": "code",
      "metadata": {
        "id": "lr4z9LFMAD8r"
      },
      "source": [
        "from keras.preprocessing.image import ImageDataGenerator"
      ],
      "execution_count": 18,
      "outputs": []
    },
    {
      "cell_type": "code",
      "metadata": {
        "id": "1cuUbXPzAJOj"
      },
      "source": [
        "batch_size=32\r\n",
        "\r\n",
        "\r\n",
        "\r\n",
        "train_datagen = ImageDataGenerator(\r\n",
        "        rescale=1./255,\r\n",
        "        shear_range=0.2,\r\n",
        "        zoom_range=0.2,\r\n",
        "        horizontal_flip=True,\r\n",
        "        width_shift_range=0.1,\r\n",
        "        height_shift_range=0.1)"
      ],
      "execution_count": 19,
      "outputs": []
    },
    {
      "cell_type": "code",
      "metadata": {
        "colab": {
          "base_uri": "https://localhost:8080/"
        },
        "id": "6McyMJEqAOBC",
        "outputId": "8d2ea4c4-0c1e-49b6-ccef-098afd8fff7a"
      },
      "source": [
        "train_generator = train_datagen.flow_from_directory(\r\n",
        "        train_dir,\r\n",
        "        target_size=(224, 224), \r\n",
        "        batch_size=batch_size, \r\n",
        "        class_mode=\"categorical\")"
      ],
      "execution_count": 20,
      "outputs": [
        {
          "output_type": "stream",
          "text": [
            "Found 3651 images belonging to 2 classes.\n"
          ],
          "name": "stdout"
        }
      ]
    },
    {
      "cell_type": "code",
      "metadata": {
        "colab": {
          "base_uri": "https://localhost:8080/"
        },
        "id": "DeHgnaUtAcZC",
        "outputId": "5b050680-ed67-4496-9ca0-1f9fd9130a1a"
      },
      "source": [
        "val_datagen = ImageDataGenerator(rescale=1./255)\r\n",
        "\r\n",
        "val_generator = val_datagen.flow_from_directory(\r\n",
        "        val_dir,\r\n",
        "        target_size=(224, 224),\r\n",
        "        batch_size=batch_size,\r\n",
        "        class_mode=\"categorical\")"
      ],
      "execution_count": 21,
      "outputs": [
        {
          "output_type": "stream",
          "text": [
            "Found 999 images belonging to 2 classes.\n"
          ],
          "name": "stdout"
        }
      ]
    },
    {
      "cell_type": "code",
      "metadata": {
        "colab": {
          "base_uri": "https://localhost:8080/"
        },
        "id": "leuG-mmVAiHZ",
        "outputId": "9c0a6284-c024-4643-c036-3cc3c0d686be"
      },
      "source": [
        "test_datagen = ImageDataGenerator(rescale=1./255)\r\n",
        "\r\n",
        "test_generator = test_datagen.flow_from_directory(\r\n",
        "        test_dir,\r\n",
        "        target_size=(224, 224),\r\n",
        "        batch_size=1,\r\n",
        "        class_mode=\"categorical\",\r\n",
        "        shuffle=False)"
      ],
      "execution_count": 22,
      "outputs": [
        {
          "output_type": "stream",
          "text": [
            "Found 20 images belonging to 2 classes.\n"
          ],
          "name": "stdout"
        }
      ]
    },
    {
      "cell_type": "code",
      "metadata": {
        "id": "w2rBTRGwAoxL"
      },
      "source": [
        "import keras"
      ],
      "execution_count": 23,
      "outputs": []
    },
    {
      "cell_type": "code",
      "metadata": {
        "colab": {
          "base_uri": "https://localhost:8080/"
        },
        "id": "d8NH2_HeArni",
        "outputId": "8f1bb92a-068d-45a8-e58d-df7c6b44497a"
      },
      "source": [
        "base_model = VGG16(weights='imagenet', include_top=False)\r\n",
        "\r\n",
        "x = base_model.output\r\n",
        "x = keras.layers.GlobalAveragePooling2D()(x)\r\n",
        "x = keras.layers.Dense(1024, activation='relu')(x)\r\n",
        "x = keras.layers.BatchNormalization()(x)\r\n",
        "predictions = keras.layers.Dense(2, activation='softmax')(x)\r\n",
        "\r\n",
        "\r\n",
        "for layer in base_model.layers:\r\n",
        "  layer.trainable = False  \r\n",
        "  \r\n",
        "final_model = keras.models.Model(inputs=base_model.inputs, outputs=predictions)"
      ],
      "execution_count": 24,
      "outputs": [
        {
          "output_type": "stream",
          "text": [
            "Downloading data from https://storage.googleapis.com/tensorflow/keras-applications/vgg16/vgg16_weights_tf_dim_ordering_tf_kernels_notop.h5\n",
            "58892288/58889256 [==============================] - 1s 0us/step\n"
          ],
          "name": "stdout"
        }
      ]
    },
    {
      "cell_type": "code",
      "metadata": {
        "id": "F9GSyeDEBVMq"
      },
      "source": [
        "final_model.compile(loss =\"categorical_crossentropy\", \r\n",
        "                    optimizer = \"adam\", \r\n",
        "                    metrics=[\"accuracy\"])"
      ],
      "execution_count": 25,
      "outputs": []
    },
    {
      "cell_type": "code",
      "metadata": {
        "colab": {
          "base_uri": "https://localhost:8080/"
        },
        "id": "jDck1nPQBZyq",
        "outputId": "04dc8ec7-39cb-41f3-bc6a-985c774cdbb7"
      },
      "source": [
        "fit_history = final_model.fit_generator(\r\n",
        "        train_generator, \r\n",
        "        steps_per_epoch=len(train_generator),\r\n",
        "        epochs=10,\r\n",
        "        validation_data=val_generator, \r\n",
        "        validation_steps=len(val_generator))"
      ],
      "execution_count": 27,
      "outputs": [
        {
          "output_type": "stream",
          "text": [
            "/usr/local/lib/python3.6/dist-packages/tensorflow/python/keras/engine/training.py:1844: UserWarning: `Model.fit_generator` is deprecated and will be removed in a future version. Please use `Model.fit`, which supports generators.\n",
            "  warnings.warn('`Model.fit_generator` is deprecated and '\n"
          ],
          "name": "stderr"
        },
        {
          "output_type": "stream",
          "text": [
            "Epoch 1/10\n",
            "115/115 [==============================] - 1566s 14s/step - loss: 0.3499 - accuracy: 0.8524 - val_loss: 0.6874 - val_accuracy: 0.7828\n",
            "Epoch 2/10\n",
            "115/115 [==============================] - 42s 365ms/step - loss: 0.3136 - accuracy: 0.8718 - val_loss: 0.3387 - val_accuracy: 0.8158\n",
            "Epoch 3/10\n",
            "115/115 [==============================] - 42s 365ms/step - loss: 0.3107 - accuracy: 0.8704 - val_loss: 0.5806 - val_accuracy: 0.7828\n",
            "Epoch 4/10\n",
            "115/115 [==============================] - 42s 362ms/step - loss: 0.2907 - accuracy: 0.8789 - val_loss: 0.2880 - val_accuracy: 0.8869\n",
            "Epoch 5/10\n",
            "115/115 [==============================] - 42s 363ms/step - loss: 0.3049 - accuracy: 0.8751 - val_loss: 0.4082 - val_accuracy: 0.8018\n",
            "Epoch 6/10\n",
            "115/115 [==============================] - 42s 364ms/step - loss: 0.2911 - accuracy: 0.8751 - val_loss: 0.2467 - val_accuracy: 0.8999\n",
            "Epoch 7/10\n",
            "115/115 [==============================] - 42s 366ms/step - loss: 0.2963 - accuracy: 0.8737 - val_loss: 0.2641 - val_accuracy: 0.8989\n",
            "Epoch 8/10\n",
            "115/115 [==============================] - 42s 365ms/step - loss: 0.2933 - accuracy: 0.8735 - val_loss: 0.3033 - val_accuracy: 0.8208\n",
            "Epoch 9/10\n",
            "115/115 [==============================] - 42s 364ms/step - loss: 0.2903 - accuracy: 0.8732 - val_loss: 0.2853 - val_accuracy: 0.8509\n",
            "Epoch 10/10\n",
            "115/115 [==============================] - 42s 367ms/step - loss: 0.2824 - accuracy: 0.8825 - val_loss: 0.2838 - val_accuracy: 0.8579\n"
          ],
          "name": "stdout"
        }
      ]
    },
    {
      "cell_type": "code",
      "metadata": {
        "colab": {
          "base_uri": "https://localhost:8080/",
          "height": 755
        },
        "id": "DIEShmNjLMBM",
        "outputId": "8f4106db-7d2f-4b34-dcc6-f52eccc233d2"
      },
      "source": [
        "display_training_curves(fit_history.history['accuracy'], fit_history.history['val_accuracy'], 'accuracy', 211)\r\n",
        "display_training_curves(fit_history.history['loss'], fit_history.history['val_loss'], 'loss', 212)"
      ],
      "execution_count": 30,
      "outputs": [
        {
          "output_type": "display_data",
          "data": {
            "image/png": "[encoded data removed]",
            "text/plain": [
              "<Figure size 720x720 with 2 Axes>"
            ]
          },
          "metadata": {
            "tags": []
          }
        }
      ]
    },
    {
      "cell_type": "code",
      "metadata": {
        "colab": {
          "base_uri": "https://localhost:8080/"
        },
        "id": "j53ELfPbL7hb",
        "outputId": "a928723c-813f-480b-9d11-425d252ce9ab"
      },
      "source": [
        "result  = final_model.evaluate_generator(test_generator,steps=len(test_generator))\r\n",
        "print('Loss:', result[0])\r\n",
        "print('Accuracy:', result[1])"
      ],
      "execution_count": 31,
      "outputs": [
        {
          "output_type": "stream",
          "text": [
            "/usr/local/lib/python3.6/dist-packages/tensorflow/python/keras/engine/training.py:1877: UserWarning: `Model.evaluate_generator` is deprecated and will be removed in a future version. Please use `Model.evaluate`, which supports generators.\n",
            "  warnings.warn('`Model.evaluate_generator` is deprecated and '\n"
          ],
          "name": "stderr"
        },
        {
          "output_type": "stream",
          "text": [
            "Loss: 0.38161954283714294\n",
            "Accuracy: 0.800000011920929\n"
          ],
          "name": "stdout"
        }
      ]
    },
    {
      "cell_type": "code",
      "metadata": {
        "colab": {
          "base_uri": "https://localhost:8080/"
        },
        "id": "GhBcbMzQMCWi",
        "outputId": "eec1afd3-d88f-437b-ad74-de12ddffd1dd"
      },
      "source": [
        "train_generator.class_indices"
      ],
      "execution_count": 32,
      "outputs": [
        {
          "output_type": "execute_result",
          "data": {
            "text/plain": [
              "{'normal': 0, 'tumor': 1}"
            ]
          },
          "metadata": {
            "tags": []
          },
          "execution_count": 32
        }
      ]
    },
    {
      "cell_type": "code",
      "metadata": {
        "colab": {
          "base_uri": "https://localhost:8080/"
        },
        "id": "V3rdmRz-MFyx",
        "outputId": "b1233456-efa3-459c-8858-4d27f7ef6425"
      },
      "source": [
        "filenames = test_generator.filenames\r\n",
        "nb_samples = len(filenames)\r\n",
        "predict = final_model.predict_generator(test_generator,steps = nb_samples).argmax(axis=-1)\r\n",
        "\r\n",
        "predict"
      ],
      "execution_count": 33,
      "outputs": [
        {
          "output_type": "stream",
          "text": [
            "/usr/local/lib/python3.6/dist-packages/tensorflow/python/keras/engine/training.py:1905: UserWarning: `Model.predict_generator` is deprecated and will be removed in a future version. Please use `Model.predict`, which supports generators.\n",
            "  warnings.warn('`Model.predict_generator` is deprecated and '\n"
          ],
          "name": "stderr"
        },
        {
          "output_type": "execute_result",
          "data": {
            "text/plain": [
              "array([0, 0, 0, 0, 0, 0, 0, 0, 0, 0, 0, 0, 1, 0, 1, 1, 1, 0, 1, 1])"
            ]
          },
          "metadata": {
            "tags": []
          },
          "execution_count": 33
        }
      ]
    },
    {
      "cell_type": "code",
      "metadata": {
        "colab": {
          "base_uri": "https://localhost:8080/"
        },
        "id": "vgECvo-EMLba",
        "outputId": "5c4a545c-77c1-40cc-e886-a407de176b78"
      },
      "source": [
        "test_generator.classes"
      ],
      "execution_count": 34,
      "outputs": [
        {
          "output_type": "execute_result",
          "data": {
            "text/plain": [
              "array([0, 0, 0, 0, 0, 0, 0, 0, 0, 0, 1, 1, 1, 1, 1, 1, 1, 1, 1, 1],\n",
              "      dtype=int32)"
            ]
          },
          "metadata": {
            "tags": []
          },
          "execution_count": 34
        }
      ]
    },
    {
      "cell_type": "code",
      "metadata": {
        "colab": {
          "base_uri": "https://localhost:8080/",
          "height": 296
        },
        "id": "LjuJVwMHMOyh",
        "outputId": "45e9b032-7fe7-4a2c-e904-cd502193bf9e"
      },
      "source": [
        "filename = \"/content/drive/MyDrive/Dataset/val/tumor/8863_idx5_x1001_y1501_class1.png\" #@param {type:\"string\"}\r\n",
        "\r\n",
        "img = image.load_img(filename, \r\n",
        "                     target_size=(224, 224))\r\n",
        "x = image.img_to_array(img)\r\n",
        "x = np.expand_dims(x, axis=0)\r\n",
        "x = preprocess_input(x)\r\n",
        "\r\n",
        "y = final_model.predict(x)\r\n",
        "\r\n",
        "predicton=\"Normal\" if y.argmax(axis=-1)==0 else \"Tumor\"\r\n",
        "actual=\"Normal\" if \"NORMAL\" in filename else \"Tumor\" \r\n",
        "\r\n",
        "img=mpimg.imread(filename)\r\n",
        "title_text = (\"%s%s%s%s%s\"%(\"True Label: \", actual, \"\\n\", \"Prediction: \", predicton))\r\n",
        "plt.title(title_text)\r\n",
        "imgplot=plt.imshow(img)"
      ],
      "execution_count": 36,
      "outputs": [
        {
          "output_type": "display_data",
          "data": {
            "image/png": "[encoded data removed]",
            "text/plain": [
              "<Figure size 432x288 with 1 Axes>"
            ]
          },
          "metadata": {
            "tags": [],
            "needs_background": "light"
          }
        }
      ]
    },
    {
      "cell_type": "code",
      "metadata": {
        "id": "5_eYkLDlNjZh"
      },
      "source": [
        "import tensorflow as tf\r\n",
        "\r\n",
        "from keras.models import load_model\r\n",
        "\r\n",
        "final_model.save('BreastTumor.h5')"
      ],
      "execution_count": 41,
      "outputs": []
    }
  ]
}